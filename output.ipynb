{
 "cells": [
  {
   "cell_type": "code",
   "execution_count": 3,
   "id": "0bfcd249",
   "metadata": {},
   "outputs": [
    {
     "name": "stdout",
     "output_type": "stream",
     "text": [
      "Predicted Class: 418\n",
      "The image belongs to folder: 000\n"
     ]
    }
   ],
   "source": [
    "import numpy as np\n",
    "import tensorflow as tf\n",
    "from tensorflow.keras.preprocessing import image\n",
    "import os\n",
    "from tensorflow.keras.models import load_model\n",
    "\n",
    "# Function to preprocess the image (resize, normalize)\n",
    "def preprocess_image(img_path, target_size=(224, 224)):\n",
    "    img = image.load_img(img_path, target_size=target_size)  # Resize image to target size\n",
    "    img_array = image.img_to_array(img)  # Convert to array\n",
    "    img_array = np.expand_dims(img_array, axis=0)  # Add batch dimension\n",
    "    img_array = img_array / 255.0  # Normalize the image\n",
    "    return img_array\n",
    "\n",
    "# Load the trained classifier model\n",
    "classifier = load_model('efficientnet_model.h5')  # Replace with your saved model path\n",
    "\n",
    "# Define target size (should be same as the input size during training)\n",
    "input_dim = 224  # Example: Update with the actual input size from your model training\n",
    "target_size = (input_dim, input_dim)\n",
    "\n",
    "# Example test image path (replace with the actual path to the test image)\n",
    "img_path = r\"C:\\iris_dataset\\000\\S6000S01.jpg\"  # Use raw string for Windows path or replace backslashes with forward slashes\n",
    "\n",
    "# Preprocess the image\n",
    "test_image = preprocess_image(img_path, target_size)\n",
    "\n",
    "# Predict the class of the test image\n",
    "predictions = classifier.predict(test_image)\n",
    "predicted_class = np.argmax(predictions, axis=1)  # Get the index of the predicted class\n",
    "\n",
    "# Display the predicted class\n",
    "print(f\"Predicted Class: {predicted_class[0]}\")\n",
    "\n",
    "# To check if the test image belongs to a particular folder (class), you can match this with your folder labels\n",
    "# For example, if the folder name is the class label:\n",
    "folder_name = '000'  # Replace this with the actual folder name you want to compare\n",
    "folder_class = 418  # The class number corresponding to this folder, as in the folder name mapping\n",
    "\n",
    "if predicted_class[0] == folder_class:\n",
    "    print(f\"The image belongs to folder: {folder_name}\")\n",
    "else:\n",
    "    print(f\"The image does not belong to folder: {folder_name}\")\n"
   ]
  },
  {
   "cell_type": "code",
   "execution_count": null,
   "id": "bd0aeffa",
   "metadata": {},
   "outputs": [],
   "source": []
  }
 ],
 "metadata": {
  "kernelspec": {
   "display_name": "Python 3 (ipykernel)",
   "language": "python",
   "name": "python3"
  },
  "language_info": {
   "codemirror_mode": {
    "name": "ipython",
    "version": 3
   },
   "file_extension": ".py",
   "mimetype": "text/x-python",
   "name": "python",
   "nbconvert_exporter": "python",
   "pygments_lexer": "ipython3",
   "version": "3.8.13"
  }
 },
 "nbformat": 4,
 "nbformat_minor": 5
}
